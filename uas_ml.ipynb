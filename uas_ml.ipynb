{
  "nbformat": 4,
  "nbformat_minor": 0,
  "metadata": {
    "colab": {
      "provenance": [],
      "authorship_tag": "ABX9TyNSmUuwLGLJ2BIXaFZpHWQd",
      "include_colab_link": true
    },
    "kernelspec": {
      "name": "python3",
      "display_name": "Python 3"
    },
    "language_info": {
      "name": "python"
    }
  },
  "cells": [
    {
      "cell_type": "markdown",
      "metadata": {
        "id": "view-in-github",
        "colab_type": "text"
      },
      "source": [
        "<a href=\"https://colab.research.google.com/github/zahariz/Linear-Regression/blob/main/uas_ml.ipynb\" target=\"_parent\"><img src=\"https://colab.research.google.com/assets/colab-badge.svg\" alt=\"Open In Colab\"/></a>"
      ]
    },
    {
      "cell_type": "code",
      "execution_count": 9,
      "metadata": {
        "id": "8zwzICOi9NZM"
      },
      "outputs": [],
      "source": [
        "import pandas as pd\n",
        "import numpy as np"
      ]
    },
    {
      "cell_type": "code",
      "source": [
        "df = pd.read_csv(\"/content/Liga120192021.csv\", encoding='latin-1')"
      ],
      "metadata": {
        "id": "fguMQuYhBqQv"
      },
      "execution_count": 10,
      "outputs": []
    },
    {
      "cell_type": "code",
      "source": [
        "df.head()"
      ],
      "metadata": {
        "colab": {
          "base_uri": "https://localhost:8080/",
          "height": 206
        },
        "id": "jBO-bkHsB0nk",
        "outputId": "e2cfab6f-809e-4291-d627-66dbe3114f53"
      },
      "execution_count": 11,
      "outputs": [
        {
          "output_type": "execute_result",
          "data": {
            "text/plain": [
              "   Pass1  Pass2  Pass3  Pass4  Pass5  Pass6  Pass7  Pass8  Pass9  Pass10\n",
              "0     11     24      2     20     10     11     13     11     16      71\n",
              "1     10     11     13     11     20     12     13     20     77      71\n",
              "2     16      8     16     17     21     22      3     20     10      13\n",
              "3     22     16      8     16      2     17     23      8     82       4\n",
              "4     20     12     16      8     16     17     21     23     22      13"
            ],
            "text/html": [
              "\n",
              "  <div id=\"df-c6cdca64-c4f0-4eb1-b532-579cbe5649a4\">\n",
              "    <div class=\"colab-df-container\">\n",
              "      <div>\n",
              "<style scoped>\n",
              "    .dataframe tbody tr th:only-of-type {\n",
              "        vertical-align: middle;\n",
              "    }\n",
              "\n",
              "    .dataframe tbody tr th {\n",
              "        vertical-align: top;\n",
              "    }\n",
              "\n",
              "    .dataframe thead th {\n",
              "        text-align: right;\n",
              "    }\n",
              "</style>\n",
              "<table border=\"1\" class=\"dataframe\">\n",
              "  <thead>\n",
              "    <tr style=\"text-align: right;\">\n",
              "      <th></th>\n",
              "      <th>Pass1</th>\n",
              "      <th>Pass2</th>\n",
              "      <th>Pass3</th>\n",
              "      <th>Pass4</th>\n",
              "      <th>Pass5</th>\n",
              "      <th>Pass6</th>\n",
              "      <th>Pass7</th>\n",
              "      <th>Pass8</th>\n",
              "      <th>Pass9</th>\n",
              "      <th>Pass10</th>\n",
              "    </tr>\n",
              "  </thead>\n",
              "  <tbody>\n",
              "    <tr>\n",
              "      <th>0</th>\n",
              "      <td>11</td>\n",
              "      <td>24</td>\n",
              "      <td>2</td>\n",
              "      <td>20</td>\n",
              "      <td>10</td>\n",
              "      <td>11</td>\n",
              "      <td>13</td>\n",
              "      <td>11</td>\n",
              "      <td>16</td>\n",
              "      <td>71</td>\n",
              "    </tr>\n",
              "    <tr>\n",
              "      <th>1</th>\n",
              "      <td>10</td>\n",
              "      <td>11</td>\n",
              "      <td>13</td>\n",
              "      <td>11</td>\n",
              "      <td>20</td>\n",
              "      <td>12</td>\n",
              "      <td>13</td>\n",
              "      <td>20</td>\n",
              "      <td>77</td>\n",
              "      <td>71</td>\n",
              "    </tr>\n",
              "    <tr>\n",
              "      <th>2</th>\n",
              "      <td>16</td>\n",
              "      <td>8</td>\n",
              "      <td>16</td>\n",
              "      <td>17</td>\n",
              "      <td>21</td>\n",
              "      <td>22</td>\n",
              "      <td>3</td>\n",
              "      <td>20</td>\n",
              "      <td>10</td>\n",
              "      <td>13</td>\n",
              "    </tr>\n",
              "    <tr>\n",
              "      <th>3</th>\n",
              "      <td>22</td>\n",
              "      <td>16</td>\n",
              "      <td>8</td>\n",
              "      <td>16</td>\n",
              "      <td>2</td>\n",
              "      <td>17</td>\n",
              "      <td>23</td>\n",
              "      <td>8</td>\n",
              "      <td>82</td>\n",
              "      <td>4</td>\n",
              "    </tr>\n",
              "    <tr>\n",
              "      <th>4</th>\n",
              "      <td>20</td>\n",
              "      <td>12</td>\n",
              "      <td>16</td>\n",
              "      <td>8</td>\n",
              "      <td>16</td>\n",
              "      <td>17</td>\n",
              "      <td>21</td>\n",
              "      <td>23</td>\n",
              "      <td>22</td>\n",
              "      <td>13</td>\n",
              "    </tr>\n",
              "  </tbody>\n",
              "</table>\n",
              "</div>\n",
              "      <button class=\"colab-df-convert\" onclick=\"convertToInteractive('df-c6cdca64-c4f0-4eb1-b532-579cbe5649a4')\"\n",
              "              title=\"Convert this dataframe to an interactive table.\"\n",
              "              style=\"display:none;\">\n",
              "        \n",
              "  <svg xmlns=\"http://www.w3.org/2000/svg\" height=\"24px\"viewBox=\"0 0 24 24\"\n",
              "       width=\"24px\">\n",
              "    <path d=\"M0 0h24v24H0V0z\" fill=\"none\"/>\n",
              "    <path d=\"M18.56 5.44l.94 2.06.94-2.06 2.06-.94-2.06-.94-.94-2.06-.94 2.06-2.06.94zm-11 1L8.5 8.5l.94-2.06 2.06-.94-2.06-.94L8.5 2.5l-.94 2.06-2.06.94zm10 10l.94 2.06.94-2.06 2.06-.94-2.06-.94-.94-2.06-.94 2.06-2.06.94z\"/><path d=\"M17.41 7.96l-1.37-1.37c-.4-.4-.92-.59-1.43-.59-.52 0-1.04.2-1.43.59L10.3 9.45l-7.72 7.72c-.78.78-.78 2.05 0 2.83L4 21.41c.39.39.9.59 1.41.59.51 0 1.02-.2 1.41-.59l7.78-7.78 2.81-2.81c.8-.78.8-2.07 0-2.86zM5.41 20L4 18.59l7.72-7.72 1.47 1.35L5.41 20z\"/>\n",
              "  </svg>\n",
              "      </button>\n",
              "      \n",
              "  <style>\n",
              "    .colab-df-container {\n",
              "      display:flex;\n",
              "      flex-wrap:wrap;\n",
              "      gap: 12px;\n",
              "    }\n",
              "\n",
              "    .colab-df-convert {\n",
              "      background-color: #E8F0FE;\n",
              "      border: none;\n",
              "      border-radius: 50%;\n",
              "      cursor: pointer;\n",
              "      display: none;\n",
              "      fill: #1967D2;\n",
              "      height: 32px;\n",
              "      padding: 0 0 0 0;\n",
              "      width: 32px;\n",
              "    }\n",
              "\n",
              "    .colab-df-convert:hover {\n",
              "      background-color: #E2EBFA;\n",
              "      box-shadow: 0px 1px 2px rgba(60, 64, 67, 0.3), 0px 1px 3px 1px rgba(60, 64, 67, 0.15);\n",
              "      fill: #174EA6;\n",
              "    }\n",
              "\n",
              "    [theme=dark] .colab-df-convert {\n",
              "      background-color: #3B4455;\n",
              "      fill: #D2E3FC;\n",
              "    }\n",
              "\n",
              "    [theme=dark] .colab-df-convert:hover {\n",
              "      background-color: #434B5C;\n",
              "      box-shadow: 0px 1px 3px 1px rgba(0, 0, 0, 0.15);\n",
              "      filter: drop-shadow(0px 1px 2px rgba(0, 0, 0, 0.3));\n",
              "      fill: #FFFFFF;\n",
              "    }\n",
              "  </style>\n",
              "\n",
              "      <script>\n",
              "        const buttonEl =\n",
              "          document.querySelector('#df-c6cdca64-c4f0-4eb1-b532-579cbe5649a4 button.colab-df-convert');\n",
              "        buttonEl.style.display =\n",
              "          google.colab.kernel.accessAllowed ? 'block' : 'none';\n",
              "\n",
              "        async function convertToInteractive(key) {\n",
              "          const element = document.querySelector('#df-c6cdca64-c4f0-4eb1-b532-579cbe5649a4');\n",
              "          const dataTable =\n",
              "            await google.colab.kernel.invokeFunction('convertToInteractive',\n",
              "                                                     [key], {});\n",
              "          if (!dataTable) return;\n",
              "\n",
              "          const docLinkHtml = 'Like what you see? Visit the ' +\n",
              "            '<a target=\"_blank\" href=https://colab.research.google.com/notebooks/data_table.ipynb>data table notebook</a>'\n",
              "            + ' to learn more about interactive tables.';\n",
              "          element.innerHTML = '';\n",
              "          dataTable['output_type'] = 'display_data';\n",
              "          await google.colab.output.renderOutput(dataTable, element);\n",
              "          const docLink = document.createElement('div');\n",
              "          docLink.innerHTML = docLinkHtml;\n",
              "          element.appendChild(docLink);\n",
              "        }\n",
              "      </script>\n",
              "    </div>\n",
              "  </div>\n",
              "  "
            ]
          },
          "metadata": {},
          "execution_count": 11
        }
      ]
    },
    {
      "cell_type": "code",
      "source": [
        "df.shape"
      ],
      "metadata": {
        "colab": {
          "base_uri": "https://localhost:8080/"
        },
        "id": "lPQsmahHB6F0",
        "outputId": "68c9790d-f744-41b4-f847-2dc167394612"
      },
      "execution_count": 13,
      "outputs": [
        {
          "output_type": "execute_result",
          "data": {
            "text/plain": [
              "(103, 10)"
            ]
          },
          "metadata": {},
          "execution_count": 13
        }
      ]
    },
    {
      "cell_type": "code",
      "source": [
        "df.info()"
      ],
      "metadata": {
        "colab": {
          "base_uri": "https://localhost:8080/"
        },
        "id": "Ag1NUFLICOpV",
        "outputId": "fa352bff-74e6-496a-f031-36bc63621b69"
      },
      "execution_count": 14,
      "outputs": [
        {
          "output_type": "stream",
          "name": "stdout",
          "text": [
            "<class 'pandas.core.frame.DataFrame'>\n",
            "RangeIndex: 103 entries, 0 to 102\n",
            "Data columns (total 10 columns):\n",
            " #   Column  Non-Null Count  Dtype\n",
            "---  ------  --------------  -----\n",
            " 0   Pass1   103 non-null    int64\n",
            " 1   Pass2   103 non-null    int64\n",
            " 2   Pass3   103 non-null    int64\n",
            " 3   Pass4   103 non-null    int64\n",
            " 4   Pass5   103 non-null    int64\n",
            " 5   Pass6   103 non-null    int64\n",
            " 6   Pass7   103 non-null    int64\n",
            " 7   Pass8   103 non-null    int64\n",
            " 8   Pass9   103 non-null    int64\n",
            " 9   Pass10  103 non-null    int64\n",
            "dtypes: int64(10)\n",
            "memory usage: 8.2 KB\n"
          ]
        }
      ]
    },
    {
      "cell_type": "code",
      "source": [
        "df.duplicated().sum()"
      ],
      "metadata": {
        "colab": {
          "base_uri": "https://localhost:8080/"
        },
        "id": "Nrn14AmuCRlW",
        "outputId": "d6a70bdc-1efa-4c05-ec59-183ac3498c98"
      },
      "execution_count": 16,
      "outputs": [
        {
          "output_type": "execute_result",
          "data": {
            "text/plain": [
              "0"
            ]
          },
          "metadata": {},
          "execution_count": 16
        }
      ]
    },
    {
      "cell_type": "code",
      "source": [
        "df.isnull().sum()"
      ],
      "metadata": {
        "colab": {
          "base_uri": "https://localhost:8080/"
        },
        "id": "GvfFNWFiCY8N",
        "outputId": "adf4ea36-6760-408a-c8ed-29576bca1b59"
      },
      "execution_count": 17,
      "outputs": [
        {
          "output_type": "execute_result",
          "data": {
            "text/plain": [
              "Pass1     0\n",
              "Pass2     0\n",
              "Pass3     0\n",
              "Pass4     0\n",
              "Pass5     0\n",
              "Pass6     0\n",
              "Pass7     0\n",
              "Pass8     0\n",
              "Pass9     0\n",
              "Pass10    0\n",
              "dtype: int64"
            ]
          },
          "metadata": {},
          "execution_count": 17
        }
      ]
    },
    {
      "cell_type": "code",
      "source": [
        "import seaborn as sms\n",
        "import matplotlib.pyplot as plt"
      ],
      "metadata": {
        "id": "gCOkyVHfM3IN"
      },
      "execution_count": 100,
      "outputs": []
    },
    {
      "cell_type": "code",
      "source": [
        "sms.distplot(df['Pass10'])"
      ],
      "metadata": {
        "colab": {
          "base_uri": "https://localhost:8080/",
          "height": 351
        },
        "id": "MYuoFEY8eSk7",
        "outputId": "e0003955-2b96-4715-86f6-91d762994a5b"
      },
      "execution_count": 101,
      "outputs": [
        {
          "output_type": "stream",
          "name": "stderr",
          "text": [
            "/usr/local/lib/python3.8/dist-packages/seaborn/distributions.py:2619: FutureWarning: `distplot` is a deprecated function and will be removed in a future version. Please adapt your code to use either `displot` (a figure-level function with similar flexibility) or `histplot` (an axes-level function for histograms).\n",
            "  warnings.warn(msg, FutureWarning)\n"
          ]
        },
        {
          "output_type": "execute_result",
          "data": {
            "text/plain": [
              "<matplotlib.axes._subplots.AxesSubplot at 0x7fb491c89d60>"
            ]
          },
          "metadata": {},
          "execution_count": 101
        },
        {
          "output_type": "display_data",
          "data": {
            "text/plain": [
              "<Figure size 432x288 with 1 Axes>"
            ],
            "image/png": "[encoded data removed]"
          },
          "metadata": {
            "needs_background": "light"
          }
        }
      ]
    },
    {
      "cell_type": "markdown",
      "source": [
        "Goal terbanyak berdasarkan nomer punggung pemain"
      ],
      "metadata": {
        "id": "6YwTXHVsfGpp"
      }
    },
    {
      "cell_type": "code",
      "source": [
        "df['Pass10'].value_counts().plot(kind='bar')"
      ],
      "metadata": {
        "colab": {
          "base_uri": "https://localhost:8080/",
          "height": 285
        },
        "id": "Do5SqvKceqkE",
        "outputId": "08483c9e-84c7-4f90-cd68-0093b12472f8"
      },
      "execution_count": 102,
      "outputs": [
        {
          "output_type": "execute_result",
          "data": {
            "text/plain": [
              "<matplotlib.axes._subplots.AxesSubplot at 0x7fb491d16580>"
            ]
          },
          "metadata": {},
          "execution_count": 102
        },
        {
          "output_type": "display_data",
          "data": {
            "text/plain": [
              "<Figure size 432x288 with 1 Axes>"
            ],
            "image/png": "[encoded data removed]"
          },
          "metadata": {
            "needs_background": "light"
          }
        }
      ]
    },
    {
      "cell_type": "markdown",
      "source": [
        "Passing pertama terbanyak terhadap goal yang terjadi"
      ],
      "metadata": {
        "id": "zLLcW2_Vi1N7"
      }
    },
    {
      "cell_type": "code",
      "source": [
        "df['Pass1'].value_counts().plot(kind='bar')"
      ],
      "metadata": {
        "colab": {
          "base_uri": "https://localhost:8080/",
          "height": 285
        },
        "id": "gruv7ri8iuH2",
        "outputId": "3843c1a3-fb82-4b00-b413-11568081e593"
      },
      "execution_count": 111,
      "outputs": [
        {
          "output_type": "execute_result",
          "data": {
            "text/plain": [
              "<matplotlib.axes._subplots.AxesSubplot at 0x7fb48e37afd0>"
            ]
          },
          "metadata": {},
          "execution_count": 111
        },
        {
          "output_type": "display_data",
          "data": {
            "text/plain": [
              "<Figure size 432x288 with 1 Axes>"
            ],
            "image/png": "[encoded data removed]"
          },
          "metadata": {
            "needs_background": "light"
          }
        }
      ]
    },
    {
      "cell_type": "markdown",
      "source": [
        "Rata2 goal terhadap passing pertama"
      ],
      "metadata": {
        "id": "OtQpugvRjAUL"
      }
    },
    {
      "cell_type": "code",
      "source": [
        "sms.barplot(x=df['Pass1'], y=df['Pass10'])\n",
        "plt.xticks(rotation='vertical')\n",
        "plt.show()"
      ],
      "metadata": {
        "colab": {
          "base_uri": "https://localhost:8080/",
          "height": 282
        },
        "id": "ISsjEOiFi5--",
        "outputId": "2eb41f71-c156-49ab-b28e-a96edf96d17d"
      },
      "execution_count": 112,
      "outputs": [
        {
          "output_type": "display_data",
          "data": {
            "text/plain": [
              "<Figure size 432x288 with 1 Axes>"
            ],
            "image/png": "[encoded data removed]"
          },
          "metadata": {
            "needs_background": "light"
          }
        }
      ]
    },
    {
      "cell_type": "markdown",
      "source": [
        "Passing kedua terbanyak terhadap goal yang terjadi"
      ],
      "metadata": {
        "id": "XlNxEAEmjMN0"
      }
    },
    {
      "cell_type": "code",
      "source": [
        "df['Pass2'].value_counts().plot(kind='bar')"
      ],
      "metadata": {
        "colab": {
          "base_uri": "https://localhost:8080/",
          "height": 285
        },
        "id": "yF6aTqoejGie",
        "outputId": "07f49c3a-54d5-430a-f9b6-b86a48af1051"
      },
      "execution_count": 113,
      "outputs": [
        {
          "output_type": "execute_result",
          "data": {
            "text/plain": [
              "<matplotlib.axes._subplots.AxesSubplot at 0x7fb48e291040>"
            ]
          },
          "metadata": {},
          "execution_count": 113
        },
        {
          "output_type": "display_data",
          "data": {
            "text/plain": [
              "<Figure size 432x288 with 1 Axes>"
            ],
            "image/png": "[encoded data removed]"
          },
          "metadata": {
            "needs_background": "light"
          }
        }
      ]
    },
    {
      "cell_type": "markdown",
      "source": [
        "Rata2 goal terhadap passing pertama"
      ],
      "metadata": {
        "id": "S7_ZE0BejUjM"
      }
    },
    {
      "cell_type": "code",
      "source": [
        "sms.barplot(x=df['Pass2'], y=df['Pass10'])\n",
        "plt.xticks(rotation='vertical')\n",
        "plt.show()"
      ],
      "metadata": {
        "colab": {
          "base_uri": "https://localhost:8080/",
          "height": 282
        },
        "id": "hSdKg8I1jQmW",
        "outputId": "8ed49f0f-ae46-4fca-a6cd-1e853e4c808f"
      },
      "execution_count": 114,
      "outputs": [
        {
          "output_type": "display_data",
          "data": {
            "text/plain": [
              "<Figure size 432x288 with 1 Axes>"
            ],
            "image/png": "[encoded data removed]"
          },
          "metadata": {
            "needs_background": "light"
          }
        }
      ]
    },
    {
      "cell_type": "markdown",
      "source": [
        "Passing ketiga terbanyak terhadap goal yang terjadi"
      ],
      "metadata": {
        "id": "9R0Yn8cDjcN1"
      }
    },
    {
      "cell_type": "code",
      "source": [
        "df['Pass3'].value_counts().plot(kind='bar')"
      ],
      "metadata": {
        "colab": {
          "base_uri": "https://localhost:8080/",
          "height": 285
        },
        "id": "bmve3ZBCjZXw",
        "outputId": "16b7cd02-8eec-45f4-df79-663887f7c612"
      },
      "execution_count": 115,
      "outputs": [
        {
          "output_type": "execute_result",
          "data": {
            "text/plain": [
              "<matplotlib.axes._subplots.AxesSubplot at 0x7fb48e232400>"
            ]
          },
          "metadata": {},
          "execution_count": 115
        },
        {
          "output_type": "display_data",
          "data": {
            "text/plain": [
              "<Figure size 432x288 with 1 Axes>"
            ],
            "image/png": "[encoded data removed]"
          },
          "metadata": {
            "needs_background": "light"
          }
        }
      ]
    },
    {
      "cell_type": "markdown",
      "source": [
        "Rata2 goal yang terjadi terhadap passing ketiga"
      ],
      "metadata": {
        "id": "cvBseiKLjjmc"
      }
    },
    {
      "cell_type": "code",
      "source": [
        "sms.barplot(x=df['Pass3'], y=df['Pass10'])\n",
        "plt.xticks(rotation='vertical')\n",
        "plt.show()"
      ],
      "metadata": {
        "colab": {
          "base_uri": "https://localhost:8080/",
          "height": 282
        },
        "id": "wnn5dS-ujgRW",
        "outputId": "ac89ab2a-0ddb-43d2-f525-f5a6d8bd771d"
      },
      "execution_count": 116,
      "outputs": [
        {
          "output_type": "display_data",
          "data": {
            "text/plain": [
              "<Figure size 432x288 with 1 Axes>"
            ],
            "image/png": "[encoded data removed]"
          },
          "metadata": {
            "needs_background": "light"
          }
        }
      ]
    },
    {
      "cell_type": "markdown",
      "source": [
        "Passing ke4 terbanyak terhadap goal yang terjadi"
      ],
      "metadata": {
        "id": "WlezL89Xjsrj"
      }
    },
    {
      "cell_type": "code",
      "source": [
        "df['Pass4'].value_counts().plot(kind='bar')"
      ],
      "metadata": {
        "colab": {
          "base_uri": "https://localhost:8080/",
          "height": 285
        },
        "id": "2YXA9YMrjnyZ",
        "outputId": "6caffe3b-1e19-4de9-fc0f-7207c64e3c43"
      },
      "execution_count": 117,
      "outputs": [
        {
          "output_type": "execute_result",
          "data": {
            "text/plain": [
              "<matplotlib.axes._subplots.AxesSubplot at 0x7fb490da8310>"
            ]
          },
          "metadata": {},
          "execution_count": 117
        },
        {
          "output_type": "display_data",
          "data": {
            "text/plain": [
              "<Figure size 432x288 with 1 Axes>"
            ],
            "image/png": "[encoded data removed]"
          },
          "metadata": {
            "needs_background": "light"
          }
        }
      ]
    },
    {
      "cell_type": "markdown",
      "source": [
        "Rata2 goal yang terjadi terhadap passing ke 4"
      ],
      "metadata": {
        "id": "0kuf0NVIj19I"
      }
    },
    {
      "cell_type": "code",
      "source": [
        "sms.barplot(x=df['Pass4'], y=df['Pass10'])\n",
        "plt.xticks(rotation='vertical')\n",
        "plt.show()"
      ],
      "metadata": {
        "colab": {
          "base_uri": "https://localhost:8080/",
          "height": 282
        },
        "id": "TyVDd8bnjyGF",
        "outputId": "41f9bdff-5a86-46a9-9927-7f7c754ae3a7"
      },
      "execution_count": 118,
      "outputs": [
        {
          "output_type": "display_data",
          "data": {
            "text/plain": [
              "<Figure size 432x288 with 1 Axes>"
            ],
            "image/png": "[encoded data removed]"
          },
          "metadata": {
            "needs_background": "light"
          }
        }
      ]
    },
    {
      "cell_type": "markdown",
      "source": [
        "Passing ke 5 terbanyak terhadap goal yang terjadi"
      ],
      "metadata": {
        "id": "vvhiMemNj7z-"
      }
    },
    {
      "cell_type": "code",
      "source": [
        "df['Pass5'].value_counts().plot(kind='bar')"
      ],
      "metadata": {
        "colab": {
          "base_uri": "https://localhost:8080/",
          "height": 285
        },
        "id": "5R5ifwWbj5CX",
        "outputId": "2731bd82-6b68-4268-fccd-d603cc3b1b1c"
      },
      "execution_count": 119,
      "outputs": [
        {
          "output_type": "execute_result",
          "data": {
            "text/plain": [
              "<matplotlib.axes._subplots.AxesSubplot at 0x7fb48e0a15b0>"
            ]
          },
          "metadata": {},
          "execution_count": 119
        },
        {
          "output_type": "display_data",
          "data": {
            "text/plain": [
              "<Figure size 432x288 with 1 Axes>"
            ],
            "image/png": "[encoded data removed]"
          },
          "metadata": {
            "needs_background": "light"
          }
        }
      ]
    },
    {
      "cell_type": "markdown",
      "source": [
        "Rata2 goal yang terjadi terhadap passing ke 5"
      ],
      "metadata": {
        "id": "LwKpasaAkDhk"
      }
    },
    {
      "cell_type": "code",
      "source": [
        "sms.barplot(x=df['Pass5'], y=df['Pass10'])\n",
        "plt.xticks(rotation='vertical')\n",
        "plt.show()"
      ],
      "metadata": {
        "colab": {
          "base_uri": "https://localhost:8080/",
          "height": 282
        },
        "id": "zIDgJM80j-_R",
        "outputId": "14abd654-5f9b-4277-8abf-2f1b8bbf5324"
      },
      "execution_count": 120,
      "outputs": [
        {
          "output_type": "display_data",
          "data": {
            "text/plain": [
              "<Figure size 432x288 with 1 Axes>"
            ],
            "image/png": "[encoded data removed]"
          },
          "metadata": {
            "needs_background": "light"
          }
        }
      ]
    },
    {
      "cell_type": "markdown",
      "source": [
        "Passing ke 6 terbanyak terhadap goal yang terjadi"
      ],
      "metadata": {
        "id": "ebdcYg0fkJ9E"
      }
    },
    {
      "cell_type": "code",
      "source": [
        "df['Pass6'].value_counts().plot(kind='bar')"
      ],
      "metadata": {
        "colab": {
          "base_uri": "https://localhost:8080/",
          "height": 285
        },
        "id": "0_RrKCW2kHYL",
        "outputId": "746b588f-fcc6-43dc-90e0-cb2e46e46302"
      },
      "execution_count": 121,
      "outputs": [
        {
          "output_type": "execute_result",
          "data": {
            "text/plain": [
              "<matplotlib.axes._subplots.AxesSubplot at 0x7fb48ddd41f0>"
            ]
          },
          "metadata": {},
          "execution_count": 121
        },
        {
          "output_type": "display_data",
          "data": {
            "text/plain": [
              "<Figure size 432x288 with 1 Axes>"
            ],
            "image/png": "[encoded data removed]"
          },
          "metadata": {
            "needs_background": "light"
          }
        }
      ]
    },
    {
      "cell_type": "markdown",
      "source": [
        "Rata2 goal yang terjadi terhadap passing ke 6"
      ],
      "metadata": {
        "id": "gE-vM-TpkQW1"
      }
    },
    {
      "cell_type": "code",
      "source": [
        "sms.barplot(x=df['Pass6'], y=df['Pass10'])\n",
        "plt.xticks(rotation='vertical')\n",
        "plt.show()"
      ],
      "metadata": {
        "colab": {
          "base_uri": "https://localhost:8080/",
          "height": 282
        },
        "id": "gmHKBVSukM-y",
        "outputId": "bb66fba8-eacb-46fb-d5b9-e2a39bba170a"
      },
      "execution_count": 122,
      "outputs": [
        {
          "output_type": "display_data",
          "data": {
            "text/plain": [
              "<Figure size 432x288 with 1 Axes>"
            ],
            "image/png": "[encoded data removed]"
          },
          "metadata": {
            "needs_background": "light"
          }
        }
      ]
    },
    {
      "cell_type": "markdown",
      "source": [
        "Passing ke 7 terbanyak terhadap goal yang terjadi"
      ],
      "metadata": {
        "id": "Tsag4byokZrA"
      }
    },
    {
      "cell_type": "code",
      "source": [
        "df['Pass7'].value_counts().plot(kind='bar')"
      ],
      "metadata": {
        "colab": {
          "base_uri": "https://localhost:8080/",
          "height": 285
        },
        "id": "05lo7CjIkS2B",
        "outputId": "16c31fd0-b29f-44b5-d536-409700240b78"
      },
      "execution_count": 124,
      "outputs": [
        {
          "output_type": "execute_result",
          "data": {
            "text/plain": [
              "<matplotlib.axes._subplots.AxesSubplot at 0x7fb48e1d3d60>"
            ]
          },
          "metadata": {},
          "execution_count": 124
        },
        {
          "output_type": "display_data",
          "data": {
            "text/plain": [
              "<Figure size 432x288 with 1 Axes>"
            ],
            "image/png": "[encoded data removed]"
          },
          "metadata": {
            "needs_background": "light"
          }
        }
      ]
    },
    {
      "cell_type": "markdown",
      "source": [
        "Rata2 goal terhadap passing ke 7"
      ],
      "metadata": {
        "id": "u0R_4t0tkjic"
      }
    },
    {
      "cell_type": "code",
      "source": [
        "sms.barplot(x=df['Pass7'], y=df['Pass10'])\n",
        "plt.xticks(rotation='vertical')\n",
        "plt.show()"
      ],
      "metadata": {
        "colab": {
          "base_uri": "https://localhost:8080/",
          "height": 282
        },
        "id": "fOMxrzEIkc84",
        "outputId": "1c2fa3b9-786a-4768-b9b8-65d3a01f540d"
      },
      "execution_count": 125,
      "outputs": [
        {
          "output_type": "display_data",
          "data": {
            "text/plain": [
              "<Figure size 432x288 with 1 Axes>"
            ],
            "image/png": "[encoded data removed]"
          },
          "metadata": {
            "needs_background": "light"
          }
        }
      ]
    },
    {
      "cell_type": "markdown",
      "source": [
        "Passing ke 8 terbanyak terhadap goal yang terjadi"
      ],
      "metadata": {
        "id": "tP25NE8LkrlF"
      }
    },
    {
      "cell_type": "code",
      "source": [
        "df['Pass8'].value_counts().plot(kind='bar')"
      ],
      "metadata": {
        "colab": {
          "base_uri": "https://localhost:8080/",
          "height": 285
        },
        "id": "z6tdyCdXknrI",
        "outputId": "5f8cdd09-1ecc-4814-8475-3b6e48bc0c0e"
      },
      "execution_count": 126,
      "outputs": [
        {
          "output_type": "execute_result",
          "data": {
            "text/plain": [
              "<matplotlib.axes._subplots.AxesSubplot at 0x7fb494755be0>"
            ]
          },
          "metadata": {},
          "execution_count": 126
        },
        {
          "output_type": "display_data",
          "data": {
            "text/plain": [
              "<Figure size 432x288 with 1 Axes>"
            ],
            "image/png": "[encoded data removed]"
          },
          "metadata": {
            "needs_background": "light"
          }
        }
      ]
    },
    {
      "cell_type": "markdown",
      "source": [
        "Rata2 goal terhadap passing ke 8"
      ],
      "metadata": {
        "id": "r5L2XfZqky_i"
      }
    },
    {
      "cell_type": "code",
      "source": [
        "sms.barplot(x=df['Pass8'], y=df['Pass10'])\n",
        "plt.xticks(rotation='vertical')\n",
        "plt.show()"
      ],
      "metadata": {
        "colab": {
          "base_uri": "https://localhost:8080/",
          "height": 282
        },
        "id": "_oFTFgdWkutX",
        "outputId": "936a861d-f3b2-48f7-b19a-d84bcf61a691"
      },
      "execution_count": 127,
      "outputs": [
        {
          "output_type": "display_data",
          "data": {
            "text/plain": [
              "<Figure size 432x288 with 1 Axes>"
            ],
            "image/png": "[encoded data removed]"
          },
          "metadata": {
            "needs_background": "light"
          }
        }
      ]
    },
    {
      "cell_type": "markdown",
      "source": [
        "Assist Terbanyak terhadap goal yang terjadi"
      ],
      "metadata": {
        "id": "q6sfreB2iYXz"
      }
    },
    {
      "cell_type": "code",
      "source": [
        "df['Pass9'].value_counts().plot(kind='bar')"
      ],
      "metadata": {
        "colab": {
          "base_uri": "https://localhost:8080/",
          "height": 285
        },
        "id": "Q3OyrSZbiI0X",
        "outputId": "f92446df-bf73-4b89-c556-bcce6943a88b"
      },
      "execution_count": 128,
      "outputs": [
        {
          "output_type": "execute_result",
          "data": {
            "text/plain": [
              "<matplotlib.axes._subplots.AxesSubplot at 0x7fb48dbc5910>"
            ]
          },
          "metadata": {},
          "execution_count": 128
        },
        {
          "output_type": "display_data",
          "data": {
            "text/plain": [
              "<Figure size 432x288 with 1 Axes>"
            ],
            "image/png": "[encoded data removed]"
          },
          "metadata": {
            "needs_background": "light"
          }
        }
      ]
    },
    {
      "cell_type": "markdown",
      "source": [
        "Rata2 goal terhadap assist"
      ],
      "metadata": {
        "id": "N2v3bs0uicj3"
      }
    },
    {
      "cell_type": "code",
      "source": [
        "sms.barplot(x=df['Pass9'], y=df['Pass10'])\n",
        "plt.xticks(rotation='vertical')\n",
        "plt.show()"
      ],
      "metadata": {
        "colab": {
          "base_uri": "https://localhost:8080/",
          "height": 282
        },
        "id": "F9kOS14SfPSL",
        "outputId": "0b0bf91c-7ed8-47bd-c16b-53ae939b5918"
      },
      "execution_count": 129,
      "outputs": [
        {
          "output_type": "display_data",
          "data": {
            "text/plain": [
              "<Figure size 432x288 with 1 Axes>"
            ],
            "image/png": "[encoded data removed]"
          },
          "metadata": {
            "needs_background": "light"
          }
        }
      ]
    },
    {
      "cell_type": "code",
      "source": [
        "sms.scatterplot(x=df['Pass9'],y=df['Pass10'])"
      ],
      "metadata": {
        "colab": {
          "base_uri": "https://localhost:8080/",
          "height": 296
        },
        "id": "lBm6NFZThDWH",
        "outputId": "bb284f93-d7fd-4a24-9db3-a5272bc0f332"
      },
      "execution_count": 130,
      "outputs": [
        {
          "output_type": "execute_result",
          "data": {
            "text/plain": [
              "<matplotlib.axes._subplots.AxesSubplot at 0x7fb48db03160>"
            ]
          },
          "metadata": {},
          "execution_count": 130
        },
        {
          "output_type": "display_data",
          "data": {
            "text/plain": [
              "<Figure size 432x288 with 1 Axes>"
            ],
            "image/png": "[encoded data removed]"
          },
          "metadata": {
            "needs_background": "light"
          }
        }
      ]
    },
    {
      "cell_type": "code",
      "source": [
        "df.corr()['Pass10']"
      ],
      "metadata": {
        "colab": {
          "base_uri": "https://localhost:8080/"
        },
        "id": "Fq2lUxn5hU-t",
        "outputId": "3b815f56-7952-42f5-ff3a-ae1543b1adc5"
      },
      "execution_count": 131,
      "outputs": [
        {
          "output_type": "execute_result",
          "data": {
            "text/plain": [
              "Pass1    -0.055637\n",
              "Pass2    -0.015004\n",
              "Pass3     0.006537\n",
              "Pass4    -0.137245\n",
              "Pass5     0.059914\n",
              "Pass6     0.021987\n",
              "Pass7    -0.127073\n",
              "Pass8    -0.180148\n",
              "Pass9    -0.061630\n",
              "Pass10    1.000000\n",
              "Name: Pass10, dtype: float64"
            ]
          },
          "metadata": {},
          "execution_count": 131
        }
      ]
    },
    {
      "cell_type": "code",
      "source": [
        "sms.heatmap(df.corr())"
      ],
      "metadata": {
        "colab": {
          "base_uri": "https://localhost:8080/",
          "height": 311
        },
        "id": "KSd92o3Fhg7U",
        "outputId": "adddbd9c-a8b2-4013-9220-c3a15625cc4b"
      },
      "execution_count": 132,
      "outputs": [
        {
          "output_type": "execute_result",
          "data": {
            "text/plain": [
              "<matplotlib.axes._subplots.AxesSubplot at 0x7fb48dbb68e0>"
            ]
          },
          "metadata": {},
          "execution_count": 132
        },
        {
          "output_type": "display_data",
          "data": {
            "text/plain": [
              "<Figure size 432x288 with 2 Axes>"
            ],
            "image/png": "[encoded data removed]"
          },
          "metadata": {
            "needs_background": "light"
          }
        }
      ]
    },
    {
      "cell_type": "code",
      "source": [
        "sms.distplot(np.log(df['Pass10']))"
      ],
      "metadata": {
        "colab": {
          "base_uri": "https://localhost:8080/",
          "height": 351
        },
        "id": "I05if4pWk_4Q",
        "outputId": "07598a0b-9968-4834-d333-ec97708329e0"
      },
      "execution_count": 133,
      "outputs": [
        {
          "output_type": "stream",
          "name": "stderr",
          "text": [
            "/usr/local/lib/python3.8/dist-packages/seaborn/distributions.py:2619: FutureWarning: `distplot` is a deprecated function and will be removed in a future version. Please adapt your code to use either `displot` (a figure-level function with similar flexibility) or `histplot` (an axes-level function for histograms).\n",
            "  warnings.warn(msg, FutureWarning)\n"
          ]
        },
        {
          "output_type": "execute_result",
          "data": {
            "text/plain": [
              "<matplotlib.axes._subplots.AxesSubplot at 0x7fb490d50d60>"
            ]
          },
          "metadata": {},
          "execution_count": 133
        },
        {
          "output_type": "display_data",
          "data": {
            "text/plain": [
              "<Figure size 432x288 with 1 Axes>"
            ],
            "image/png": "[encoded data removed]"
          },
          "metadata": {
            "needs_background": "light"
          }
        }
      ]
    },
    {
      "cell_type": "code",
      "source": [
        "df.Pass10"
      ],
      "metadata": {
        "colab": {
          "base_uri": "https://localhost:8080/"
        },
        "id": "sjk920s1vkZ-",
        "outputId": "3edfd8ee-5f5e-4a02-98e9-88b4abbcbffc"
      },
      "execution_count": 168,
      "outputs": [
        {
          "output_type": "execute_result",
          "data": {
            "text/plain": [
              "0      71\n",
              "1      71\n",
              "2      13\n",
              "3       4\n",
              "4      13\n",
              "       ..\n",
              "98     10\n",
              "99      7\n",
              "100    25\n",
              "101     7\n",
              "102    25\n",
              "Name: Pass10, Length: 103, dtype: int64"
            ]
          },
          "metadata": {},
          "execution_count": 168
        }
      ]
    },
    {
      "cell_type": "code",
      "source": [
        "data_X = df.Pass9[:, np.newaxis]\n",
        "print(data_X)"
      ],
      "metadata": {
        "colab": {
          "base_uri": "https://localhost:8080/"
        },
        "id": "Yq6S1G2TtOeE",
        "outputId": "e6109336-baa7-4677-da1f-00097acad57a"
      },
      "execution_count": 165,
      "outputs": [
        {
          "output_type": "stream",
          "name": "stdout",
          "text": [
            "[[16]\n",
            " [77]\n",
            " [10]\n",
            " [82]\n",
            " [22]\n",
            " [91]\n",
            " [ 3]\n",
            " [23]\n",
            " [ 8]\n",
            " [ 4]\n",
            " [12]\n",
            " [13]\n",
            " [77]\n",
            " [10]\n",
            " [13]\n",
            " [22]\n",
            " [10]\n",
            " [12]\n",
            " [77]\n",
            " [ 9]\n",
            " [20]\n",
            " [11]\n",
            " [ 8]\n",
            " [93]\n",
            " [93]\n",
            " [91]\n",
            " [12]\n",
            " [93]\n",
            " [12]\n",
            " [17]\n",
            " [16]\n",
            " [16]\n",
            " [ 3]\n",
            " [ 3]\n",
            " [13]\n",
            " [91]\n",
            " [93]\n",
            " [93]\n",
            " [91]\n",
            " [10]\n",
            " [91]\n",
            " [13]\n",
            " [11]\n",
            " [10]\n",
            " [22]\n",
            " [13]\n",
            " [91]\n",
            " [24]\n",
            " [91]\n",
            " [ 9]\n",
            " [20]\n",
            " [21]\n",
            " [20]\n",
            " [11]\n",
            " [ 9]\n",
            " [22]\n",
            " [74]\n",
            " [10]\n",
            " [ 7]\n",
            " [ 2]\n",
            " [ 9]\n",
            " [21]\n",
            " [27]\n",
            " [20]\n",
            " [23]\n",
            " [ 2]\n",
            " [10]\n",
            " [27]\n",
            " [12]\n",
            " [74]\n",
            " [ 9]\n",
            " [12]\n",
            " [ 9]\n",
            " [ 9]\n",
            " [21]\n",
            " [20]\n",
            " [ 9]\n",
            " [11]\n",
            " [37]\n",
            " [ 7]\n",
            " [21]\n",
            " [37]\n",
            " [30]\n",
            " [11]\n",
            " [25]\n",
            " [21]\n",
            " [37]\n",
            " [23]\n",
            " [23]\n",
            " [93]\n",
            " [23]\n",
            " [23]\n",
            " [21]\n",
            " [74]\n",
            " [30]\n",
            " [30]\n",
            " [21]\n",
            " [21]\n",
            " [11]\n",
            " [13]\n",
            " [27]\n",
            " [21]\n",
            " [21]]\n"
          ]
        },
        {
          "output_type": "stream",
          "name": "stderr",
          "text": [
            "<ipython-input-165-794260b3d2c1>:1: FutureWarning: Support for multi-dimensional indexing (e.g. `obj[:, None]`) is deprecated and will be removed in a future version.  Convert to a numpy array before indexing instead.\n",
            "  data_X = df.Pass9[:, np.newaxis]\n"
          ]
        }
      ]
    },
    {
      "cell_type": "code",
      "source": [
        "data_X_train = data_X[:-30]\n",
        "data_X_test = data_X[-20:]\n",
        "\n",
        "data_y_train = df.Pass10[:-30]\n",
        "data_y_test = df.Pass10[-20:]"
      ],
      "metadata": {
        "id": "-SwU2T_3lgwB"
      },
      "execution_count": 169,
      "outputs": []
    },
    {
      "cell_type": "code",
      "source": [
        "from sklearn import linear_model\n",
        "reg = linear_model.LinearRegression()\n",
        "reg.fit(data_X_train, data_y_train)\n",
        "\n",
        "y_predict = reg.predict(data_X_test)"
      ],
      "metadata": {
        "id": "BJINYVaAvspW"
      },
      "execution_count": 172,
      "outputs": []
    },
    {
      "cell_type": "code",
      "source": [
        "from sklearn.metrics import mean_squared_error\n",
        "accuracy = mean_squared_error(data_y_test, y_predict)\n",
        "print(accuracy)"
      ],
      "metadata": {
        "colab": {
          "base_uri": "https://localhost:8080/"
        },
        "id": "i4G6ijssq9ND",
        "outputId": "e81fbe80-72d9-425a-8972-038f51554d26"
      },
      "execution_count": 176,
      "outputs": [
        {
          "output_type": "stream",
          "name": "stdout",
          "text": [
            "347.20578040133756\n"
          ]
        }
      ]
    },
    {
      "cell_type": "code",
      "source": [
        "weight = reg.coef_\n",
        "intercept = reg.intercept_\n",
        "print(weight, intercept)"
      ],
      "metadata": {
        "colab": {
          "base_uri": "https://localhost:8080/"
        },
        "id": "HL57md1lxB6g",
        "outputId": "8ad56658-e87d-4d2b-90e2-25e4e7c73a2a"
      },
      "execution_count": 177,
      "outputs": [
        {
          "output_type": "stream",
          "name": "stdout",
          "text": [
            "[-0.07678433] 28.962970018232834\n"
          ]
        }
      ]
    },
    {
      "cell_type": "code",
      "source": [
        "import matplotlib.pyplot as plt\n",
        "plt.scatter(data_X_test, data_y_test)\n",
        "plt.plot(data_X_test, y_predict)\n",
        "plt.show()"
      ],
      "metadata": {
        "colab": {
          "base_uri": "https://localhost:8080/",
          "height": 265
        },
        "id": "Ab7wyurrxR6q",
        "outputId": "8290151c-d00b-459d-cba7-ba4c965ca216"
      },
      "execution_count": 178,
      "outputs": [
        {
          "output_type": "display_data",
          "data": {
            "text/plain": [
              "<Figure size 432x288 with 1 Axes>"
            ],
            "image/png": "[encoded data removed]"
          },
          "metadata": {
            "needs_background": "light"
          }
        }
      ]
    }
  ]
}